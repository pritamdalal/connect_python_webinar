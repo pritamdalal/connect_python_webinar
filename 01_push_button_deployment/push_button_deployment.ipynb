{
 "cells": [
  {
   "cell_type": "markdown",
   "id": "d770a91d",
   "metadata": {},
   "source": [
    "# Push-Button Deployment"
   ]
  },
  {
   "cell_type": "markdown",
   "id": "323e6f43-af16-4ca4-b90e-af3deaa04794",
   "metadata": {},
   "source": [
    "The purpose of this notebook is to demonstrate push-button deployment to Posit Connect.  The content of this notebook is a simple report that plots SPY data over a period of time."
   ]
  },
  {
   "cell_type": "markdown",
   "id": "4277ec8b-f6d6-4646-bdf9-7fab869d4cd7",
   "metadata": {},
   "source": [
    "## Import Packages"
   ]
  },
  {
   "cell_type": "markdown",
   "id": "9bdac6bf-8f9b-4da0-ae7d-1c5c5017ee59",
   "metadata": {},
   "source": [
    "Let's begin by importing the packages that we will need."
   ]
  },
  {
   "cell_type": "code",
   "execution_count": 5,
   "id": "6371cd2c",
   "metadata": {
    "tags": []
   },
   "outputs": [],
   "source": [
    "import numpy as np\n",
    "import pandas as pd\n",
    "import yfinance as yf\n",
    "yf.pdr_override()\n",
    "from pandas_datareader import data as pdr"
   ]
  },
  {
   "cell_type": "markdown",
   "id": "0ce80a83-d48a-4641-8b53-c8e15fac411c",
   "metadata": {},
   "source": [
    "## Reading-In the Data"
   ]
  },
  {
   "cell_type": "markdown",
   "id": "5cf6d242-f568-48f7-b3d3-bb3a22750089",
   "metadata": {},
   "source": [
    "Next, we'll import some SPY data using the **pandas_datareader** package.  We also perform some minor clean-up of the column names."
   ]
  },
  {
   "cell_type": "code",
   "execution_count": 19,
   "id": "39b30f41",
   "metadata": {
    "tags": []
   },
   "outputs": [
    {
     "name": "stdout",
     "output_type": "stream",
     "text": [
      "[*********************100%***********************]  1 of 1 completed\n"
     ]
    },
    {
     "data": {
      "text/html": [
       "<div>\n",
       "<style scoped>\n",
       "    .dataframe tbody tr th:only-of-type {\n",
       "        vertical-align: middle;\n",
       "    }\n",
       "\n",
       "    .dataframe tbody tr th {\n",
       "        vertical-align: top;\n",
       "    }\n",
       "\n",
       "    .dataframe thead th {\n",
       "        text-align: right;\n",
       "    }\n",
       "</style>\n",
       "<table border=\"1\" class=\"dataframe\">\n",
       "  <thead>\n",
       "    <tr style=\"text-align: right;\">\n",
       "      <th></th>\n",
       "      <th>date</th>\n",
       "      <th>open</th>\n",
       "      <th>high</th>\n",
       "      <th>low</th>\n",
       "      <th>close</th>\n",
       "      <th>adj_close</th>\n",
       "      <th>volume</th>\n",
       "    </tr>\n",
       "  </thead>\n",
       "  <tbody>\n",
       "    <tr>\n",
       "      <th>0</th>\n",
       "      <td>1993-01-29</td>\n",
       "      <td>43.968750</td>\n",
       "      <td>43.968750</td>\n",
       "      <td>43.750000</td>\n",
       "      <td>43.937500</td>\n",
       "      <td>25.029375</td>\n",
       "      <td>1003200</td>\n",
       "    </tr>\n",
       "    <tr>\n",
       "      <th>1</th>\n",
       "      <td>1993-02-01</td>\n",
       "      <td>43.968750</td>\n",
       "      <td>44.250000</td>\n",
       "      <td>43.968750</td>\n",
       "      <td>44.250000</td>\n",
       "      <td>25.207390</td>\n",
       "      <td>480500</td>\n",
       "    </tr>\n",
       "    <tr>\n",
       "      <th>2</th>\n",
       "      <td>1993-02-02</td>\n",
       "      <td>44.218750</td>\n",
       "      <td>44.375000</td>\n",
       "      <td>44.125000</td>\n",
       "      <td>44.343750</td>\n",
       "      <td>25.260784</td>\n",
       "      <td>201300</td>\n",
       "    </tr>\n",
       "    <tr>\n",
       "      <th>3</th>\n",
       "      <td>1993-02-03</td>\n",
       "      <td>44.406250</td>\n",
       "      <td>44.843750</td>\n",
       "      <td>44.375000</td>\n",
       "      <td>44.812500</td>\n",
       "      <td>25.527830</td>\n",
       "      <td>529400</td>\n",
       "    </tr>\n",
       "    <tr>\n",
       "      <th>4</th>\n",
       "      <td>1993-02-04</td>\n",
       "      <td>44.968750</td>\n",
       "      <td>45.093750</td>\n",
       "      <td>44.468750</td>\n",
       "      <td>45.000000</td>\n",
       "      <td>25.634642</td>\n",
       "      <td>531500</td>\n",
       "    </tr>\n",
       "    <tr>\n",
       "      <th>...</th>\n",
       "      <td>...</td>\n",
       "      <td>...</td>\n",
       "      <td>...</td>\n",
       "      <td>...</td>\n",
       "      <td>...</td>\n",
       "      <td>...</td>\n",
       "      <td>...</td>\n",
       "    </tr>\n",
       "    <tr>\n",
       "      <th>7652</th>\n",
       "      <td>2023-06-21</td>\n",
       "      <td>436.160004</td>\n",
       "      <td>436.989990</td>\n",
       "      <td>434.329987</td>\n",
       "      <td>434.940002</td>\n",
       "      <td>434.940002</td>\n",
       "      <td>76982300</td>\n",
       "    </tr>\n",
       "    <tr>\n",
       "      <th>7653</th>\n",
       "      <td>2023-06-22</td>\n",
       "      <td>433.950012</td>\n",
       "      <td>436.619995</td>\n",
       "      <td>433.600006</td>\n",
       "      <td>436.510010</td>\n",
       "      <td>436.510010</td>\n",
       "      <td>70637200</td>\n",
       "    </tr>\n",
       "    <tr>\n",
       "      <th>7654</th>\n",
       "      <td>2023-06-23</td>\n",
       "      <td>432.929993</td>\n",
       "      <td>435.059998</td>\n",
       "      <td>432.470001</td>\n",
       "      <td>433.209991</td>\n",
       "      <td>433.209991</td>\n",
       "      <td>92028700</td>\n",
       "    </tr>\n",
       "    <tr>\n",
       "      <th>7655</th>\n",
       "      <td>2023-06-26</td>\n",
       "      <td>432.619995</td>\n",
       "      <td>434.609985</td>\n",
       "      <td>431.190002</td>\n",
       "      <td>431.440002</td>\n",
       "      <td>431.440002</td>\n",
       "      <td>72823600</td>\n",
       "    </tr>\n",
       "    <tr>\n",
       "      <th>7656</th>\n",
       "      <td>2023-06-27</td>\n",
       "      <td>432.350006</td>\n",
       "      <td>436.809998</td>\n",
       "      <td>431.880005</td>\n",
       "      <td>436.170013</td>\n",
       "      <td>436.170013</td>\n",
       "      <td>72625600</td>\n",
       "    </tr>\n",
       "  </tbody>\n",
       "</table>\n",
       "<p>7657 rows × 7 columns</p>\n",
       "</div>"
      ],
      "text/plain": [
       "           date        open        high         low       close   adj_close  \\\n",
       "0    1993-01-29   43.968750   43.968750   43.750000   43.937500   25.029375   \n",
       "1    1993-02-01   43.968750   44.250000   43.968750   44.250000   25.207390   \n",
       "2    1993-02-02   44.218750   44.375000   44.125000   44.343750   25.260784   \n",
       "3    1993-02-03   44.406250   44.843750   44.375000   44.812500   25.527830   \n",
       "4    1993-02-04   44.968750   45.093750   44.468750   45.000000   25.634642   \n",
       "...         ...         ...         ...         ...         ...         ...   \n",
       "7652 2023-06-21  436.160004  436.989990  434.329987  434.940002  434.940002   \n",
       "7653 2023-06-22  433.950012  436.619995  433.600006  436.510010  436.510010   \n",
       "7654 2023-06-23  432.929993  435.059998  432.470001  433.209991  433.209991   \n",
       "7655 2023-06-26  432.619995  434.609985  431.190002  431.440002  431.440002   \n",
       "7656 2023-06-27  432.350006  436.809998  431.880005  436.170013  436.170013   \n",
       "\n",
       "        volume  \n",
       "0      1003200  \n",
       "1       480500  \n",
       "2       201300  \n",
       "3       529400  \n",
       "4       531500  \n",
       "...        ...  \n",
       "7652  76982300  \n",
       "7653  70637200  \n",
       "7654  92028700  \n",
       "7655  72823600  \n",
       "7656  72625600  \n",
       "\n",
       "[7657 rows x 7 columns]"
      ]
     },
     "execution_count": 19,
     "metadata": {},
     "output_type": "execute_result"
    }
   ],
   "source": [
    "df_spy = pdr.get_data_yahoo('SPY')\n",
    "df_spy.reset_index(inplace=True)\n",
    "df_spy.columns = df_spy.columns.str.lower().str.replace(' ','_')\n",
    "df_spy"
   ]
  },
  {
   "cell_type": "markdown",
   "id": "943624b2-b951-41bc-ae8a-9ec2118e6ca8",
   "metadata": {},
   "source": [
    "## Plotting the Data"
   ]
  },
  {
   "cell_type": "code",
   "execution_count": 18,
   "id": "0bc73c2e-07ed-4a2a-bc02-6ef126da8a69",
   "metadata": {
    "tags": []
   },
   "outputs": [
    {
     "data": {
      "image/png": "[encoded data removed]",
      "text/plain": [
       "<Figure size 900x400 with 1 Axes>"
      ]
     },
     "metadata": {},
     "output_type": "display_data"
    }
   ],
   "source": [
    "ax = df_spy.\\\n",
    "        plot(\n",
    "            x = 'date',\n",
    "            y = 'adj_close',\n",
    "            title = 'SPY: 1993-Present',\n",
    "            grid = True,\n",
    "            style = 'k',\n",
    "            alpha = 0.75,\n",
    "            figsize = (9, 4),\n",
    "        );\n",
    "ax.set_xlabel('Trade Date');\n",
    "ax.set_ylabel('Adjusted Close Price');"
   ]
  },
  {
   "cell_type": "markdown",
   "id": "0709cfd2-b383-4133-8455-95f5c4c60014",
   "metadata": {},
   "source": [
    "## Push-Button Deployment"
   ]
  },
  {
   "cell_type": "markdown",
   "id": "ec645a86-d81c-437e-922e-daea8847e9ed",
   "metadata": {},
   "source": [
    "Push-button deployment is available in the classic Jupyter Notebook IDE.  It is initiated by clicking on the blue \"eye\" button on the tool bar. "
   ]
  },
  {
   "cell_type": "markdown",
   "id": "43c6a029-db73-4e76-8c3c-f3cf8960de4c",
   "metadata": {},
   "source": [
    "![](./push_button.png)"
   ]
  }
 ],
 "metadata": {
  "kernelspec": {
   "display_name": "Python 3.10.11",
   "language": "python",
   "name": "py3.10.11"
  },
  "language_info": {
   "codemirror_mode": {
    "name": "ipython",
    "version": 3
   },
   "file_extension": ".py",
   "mimetype": "text/x-python",
   "name": "python",
   "nbconvert_exporter": "python",
   "pygments_lexer": "ipython3",
   "version": "3.10.11"
  },
  "rsconnect": {
   "previousServerId": "3b98fc405e7f0a041b69358d808997fd",
   "servers": {
    "3b98fc405e7f0a041b69358d808997fd": {
     "appId": 17032,
     "appMode": "jupyter-static",
     "configUrl": "https://colorado.posit.co/rsc/connect/#/apps/4a4e8cbb-6402-4dfd-8dd5-8783dd49ff88",
     "disableTLSCheck": false,
     "notebookTitle": "push_button_deployment",
     "server": "https://colorado.posit.co/rsc/",
     "serverName": "colorado"
    }
   },
   "version": 1
  }
 },
 "nbformat": 4,
 "nbformat_minor": 5
}
