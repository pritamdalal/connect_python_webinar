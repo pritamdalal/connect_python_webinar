{
 "cells": [
  {
   "cell_type": "markdown",
   "id": "76d56dee-0644-4084-be3e-be761aa3be1c",
   "metadata": {},
   "source": [
    "# Writing A Pin"
   ]
  },
  {
   "cell_type": "markdown",
   "id": "d609c5a9-3ff2-4ffc-b4c7-6970e5a3d4c1",
   "metadata": {},
   "source": [
    "In this notebook we write a pin to Connect.  The pin consists of historical soybean yields.\n",
    "\n",
    "You can learn more about the **pins** package here: https://rstudio.github.io/pins-python/intro.html"
   ]
  },
  {
   "cell_type": "markdown",
   "id": "ca09e845-5fcc-4358-92d4-c6116c4c7625",
   "metadata": {
    "tags": []
   },
   "source": [
    "## Importing Packages"
   ]
  },
  {
   "cell_type": "markdown",
   "id": "825511a1-b9b1-4da2-a7b1-28ed10f8806d",
   "metadata": {},
   "source": [
    "Let's begin by importing the packages that we will need."
   ]
  },
  {
   "cell_type": "code",
   "execution_count": 1,
   "id": "31826e1f-cb84-4109-9ea1-fb798a5de82d",
   "metadata": {
    "tags": []
   },
   "outputs": [],
   "source": [
    "import pandas as pd\n",
    "import pins\n",
    "import os\n",
    "import dotenv # this is the python-dotenv package"
   ]
  },
  {
   "cell_type": "markdown",
   "id": "1e415e41-7d80-40c0-ac24-d45237e3b339",
   "metadata": {},
   "source": [
    "## Reading and Wrangling Data"
   ]
  },
  {
   "cell_type": "markdown",
   "id": "297eebe0-e8fe-40f8-b12c-e97816469727",
   "metadata": {},
   "source": [
    "Next, we'll read-in the full crop yields data set and then filter it for soybeans."
   ]
  },
  {
   "cell_type": "code",
   "execution_count": 2,
   "id": "c4575698-4030-41db-82da-1e3ea9af35ef",
   "metadata": {
    "tags": []
   },
   "outputs": [
    {
     "data": {
      "text/html": [
       "<div>\n",
       "<style scoped>\n",
       "    .dataframe tbody tr th:only-of-type {\n",
       "        vertical-align: middle;\n",
       "    }\n",
       "\n",
       "    .dataframe tbody tr th {\n",
       "        vertical-align: top;\n",
       "    }\n",
       "\n",
       "    .dataframe thead th {\n",
       "        text-align: right;\n",
       "    }\n",
       "</style>\n",
       "<table border=\"1\" class=\"dataframe\">\n",
       "  <thead>\n",
       "    <tr style=\"text-align: right;\">\n",
       "      <th></th>\n",
       "      <th>entity</th>\n",
       "      <th>year</th>\n",
       "      <th>product</th>\n",
       "      <th>crop_yield</th>\n",
       "    </tr>\n",
       "  </thead>\n",
       "  <tbody>\n",
       "    <tr>\n",
       "      <th>641</th>\n",
       "      <td>africa</td>\n",
       "      <td>1961</td>\n",
       "      <td>soybeans</td>\n",
       "      <td>0.3758</td>\n",
       "    </tr>\n",
       "    <tr>\n",
       "      <th>652</th>\n",
       "      <td>africa</td>\n",
       "      <td>1962</td>\n",
       "      <td>soybeans</td>\n",
       "      <td>0.3935</td>\n",
       "    </tr>\n",
       "    <tr>\n",
       "      <th>663</th>\n",
       "      <td>africa</td>\n",
       "      <td>1963</td>\n",
       "      <td>soybeans</td>\n",
       "      <td>0.3949</td>\n",
       "    </tr>\n",
       "    <tr>\n",
       "      <th>674</th>\n",
       "      <td>africa</td>\n",
       "      <td>1964</td>\n",
       "      <td>soybeans</td>\n",
       "      <td>0.3692</td>\n",
       "    </tr>\n",
       "    <tr>\n",
       "      <th>685</th>\n",
       "      <td>africa</td>\n",
       "      <td>1965</td>\n",
       "      <td>soybeans</td>\n",
       "      <td>0.3480</td>\n",
       "    </tr>\n",
       "    <tr>\n",
       "      <th>...</th>\n",
       "      <td>...</td>\n",
       "      <td>...</td>\n",
       "      <td>...</td>\n",
       "      <td>...</td>\n",
       "    </tr>\n",
       "    <tr>\n",
       "      <th>143773</th>\n",
       "      <td>zimbabwe</td>\n",
       "      <td>2014</td>\n",
       "      <td>soybeans</td>\n",
       "      <td>1.1767</td>\n",
       "    </tr>\n",
       "    <tr>\n",
       "      <th>143784</th>\n",
       "      <td>zimbabwe</td>\n",
       "      <td>2015</td>\n",
       "      <td>soybeans</td>\n",
       "      <td>0.9459</td>\n",
       "    </tr>\n",
       "    <tr>\n",
       "      <th>143795</th>\n",
       "      <td>zimbabwe</td>\n",
       "      <td>2016</td>\n",
       "      <td>soybeans</td>\n",
       "      <td>1.1958</td>\n",
       "    </tr>\n",
       "    <tr>\n",
       "      <th>143806</th>\n",
       "      <td>zimbabwe</td>\n",
       "      <td>2017</td>\n",
       "      <td>soybeans</td>\n",
       "      <td>1.5139</td>\n",
       "    </tr>\n",
       "    <tr>\n",
       "      <th>143817</th>\n",
       "      <td>zimbabwe</td>\n",
       "      <td>2018</td>\n",
       "      <td>soybeans</td>\n",
       "      <td>1.5000</td>\n",
       "    </tr>\n",
       "  </tbody>\n",
       "</table>\n",
       "<p>5961 rows × 4 columns</p>\n",
       "</div>"
      ],
      "text/plain": [
       "          entity  year   product  crop_yield\n",
       "641       africa  1961  soybeans      0.3758\n",
       "652       africa  1962  soybeans      0.3935\n",
       "663       africa  1963  soybeans      0.3949\n",
       "674       africa  1964  soybeans      0.3692\n",
       "685       africa  1965  soybeans      0.3480\n",
       "...          ...   ...       ...         ...\n",
       "143773  zimbabwe  2014  soybeans      1.1767\n",
       "143784  zimbabwe  2015  soybeans      0.9459\n",
       "143795  zimbabwe  2016  soybeans      1.1958\n",
       "143806  zimbabwe  2017  soybeans      1.5139\n",
       "143817  zimbabwe  2018  soybeans      1.5000\n",
       "\n",
       "[5961 rows x 4 columns]"
      ]
     },
     "execution_count": 2,
     "metadata": {},
     "output_type": "execute_result"
    }
   ],
   "source": [
    "df = pd.read_csv('crop_yields.csv')\n",
    "df = df.query('product == \"soybeans\"').dropna()\n",
    "df"
   ]
  },
  {
   "cell_type": "markdown",
   "id": "0a3ca52a-c3c0-45d7-9de9-32e0262ed8d2",
   "metadata": {
    "tags": []
   },
   "source": [
    "## Environment Variables"
   ]
  },
  {
   "cell_type": "markdown",
   "id": "ec6a6e50-b92d-49ed-9805-d7be5dd7d836",
   "metadata": {},
   "source": [
    "In order to communicate with our Posit Connect server we will need the URL of the server and an API key.  These have been stored as environment variables in a `.env` file in the local directory."
   ]
  },
  {
   "cell_type": "code",
   "execution_count": 3,
   "id": "5097ebe6-6e41-45fc-a010-181d6d5fdcd5",
   "metadata": {
    "tags": []
   },
   "outputs": [],
   "source": [
    "dotenv.load_dotenv(override=True)\n",
    "rsc_server = os.environ['CONNECT_SERVER']\n",
    "rsc_key = os.environ['CONNECT_API_KEY']"
   ]
  },
  {
   "cell_type": "markdown",
   "id": "1288672b-78bf-4703-a30d-728421a126bd",
   "metadata": {},
   "source": [
    "## Creating a Board"
   ]
  },
  {
   "cell_type": "markdown",
   "id": "135fe5c1-2a08-48a6-8ef8-0eded4fc10aa",
   "metadata": {},
   "source": [
    "The next step in writing a pin is creating a board, which is essentially a connection to the Connect server."
   ]
  },
  {
   "cell_type": "code",
   "execution_count": 6,
   "id": "87f9622c-0599-42a5-95da-1bea18e62a7a",
   "metadata": {
    "tags": []
   },
   "outputs": [
    {
     "data": {
      "text/plain": [
       "<pins.boards.BoardRsConnect at 0x7fda3f1e72e0>"
      ]
     },
     "execution_count": 6,
     "metadata": {},
     "output_type": "execute_result"
    }
   ],
   "source": [
    "board = pins.board_connect(server_url=rsc_server, api_key=rsc_key)\n",
    "board"
   ]
  },
  {
   "cell_type": "markdown",
   "id": "a5830eba-e594-43fe-ab78-fb9224e4812d",
   "metadata": {},
   "source": [
    "## Writing the Pin"
   ]
  },
  {
   "cell_type": "markdown",
   "id": "b9f5f0fc-a056-4b46-abf0-f481b7b31e56",
   "metadata": {},
   "source": [
    "We are now ready to write the pin; to do so we use the `board.write_pin()` method."
   ]
  },
  {
   "cell_type": "code",
   "execution_count": 7,
   "id": "77bbb419-d0aa-42a0-a1cc-93e1d1cde467",
   "metadata": {
    "tags": []
   },
   "outputs": [
    {
     "name": "stderr",
     "output_type": "stream",
     "text": [
      "Writing pin:\n",
      "Name: 'pritam.dalal/soybean_yields_python'\n",
      "Version: 20230628T171338Z-4f44f\n"
     ]
    },
    {
     "data": {
      "text/plain": [
       "Meta(title='soybean_yields_python: a pinned 5961 x 4 DataFrame', description=None, created='20230628T171338Z', pin_hash='4f44fda6172c4859', file='soybean_yields_python.csv', file_size=199656, type='csv', api_version=1, version=VersionRaw(version='76490'), tags=None, name='pritam.dalal/soybean_yields_python', user={}, local={})"
      ]
     },
     "execution_count": 7,
     "metadata": {},
     "output_type": "execute_result"
    }
   ],
   "source": [
    "board.pin_write(df, 'pritam.dalal/soybean_yields_python', type = \"csv\")"
   ]
  }
 ],
 "metadata": {
  "kernelspec": {
   "display_name": "Python 3.10.11",
   "language": "python",
   "name": "py3.10.11"
  },
  "language_info": {
   "codemirror_mode": {
    "name": "ipython",
    "version": 3
   },
   "file_extension": ".py",
   "mimetype": "text/x-python",
   "name": "python",
   "nbconvert_exporter": "python",
   "pygments_lexer": "ipython3",
   "version": "3.10.11"
  }
 },
 "nbformat": 4,
 "nbformat_minor": 5
}
