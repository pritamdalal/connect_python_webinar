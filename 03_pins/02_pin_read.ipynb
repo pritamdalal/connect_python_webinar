{
 "cells": [
  {
   "cell_type": "markdown",
   "id": "e4bcc631-690b-4063-9014-d116e8255006",
   "metadata": {},
   "source": [
    "# Reading a Pin"
   ]
  },
  {
   "cell_type": "markdown",
   "id": "833b4601-9fd0-4f3a-a566-3f3652478278",
   "metadata": {},
   "source": [
    "In this notebook we read from a pin that is deployed Posit Connect.  The pin consists of historical soybean yields.\n",
    "\n",
    "You can learn more about the **pins** package here: https://rstudio.github.io/pins-python/intro.html"
   ]
  },
  {
   "cell_type": "markdown",
   "id": "4f93cbea-f567-4489-a659-e9ef86b105e0",
   "metadata": {
    "tags": []
   },
   "source": [
    "## Importing Packages"
   ]
  },
  {
   "cell_type": "markdown",
   "id": "2e4744d5-e0fc-4f93-8611-ddd016bb9cc5",
   "metadata": {},
   "source": [
    "Let's begin by importing the packages that we will need."
   ]
  },
  {
   "cell_type": "code",
   "execution_count": 1,
   "id": "0afa2e68-46aa-4f9c-9e92-b700e8255471",
   "metadata": {
    "tags": []
   },
   "outputs": [],
   "source": [
    "import pandas as pd\n",
    "import pins\n",
    "import os\n",
    "import dotenv # this is the python-dotenv package"
   ]
  },
  {
   "cell_type": "markdown",
   "id": "1f86bd85-b48e-4adb-a026-746f98e0300e",
   "metadata": {},
   "source": [
    "## Environment Variables"
   ]
  },
  {
   "cell_type": "markdown",
   "id": "450614f1-6dfb-4263-b41d-e4a6e77555ae",
   "metadata": {},
   "source": [
    "In order to communicate with our Posit Connect server we will need the URL of the server and an API key.  These have been stored as environment variables in a `.env` file in the local directory."
   ]
  },
  {
   "cell_type": "code",
   "execution_count": 2,
   "id": "f8fb68e0-6db4-4182-85cf-f163f423e797",
   "metadata": {
    "tags": []
   },
   "outputs": [],
   "source": [
    "dotenv.load_dotenv(override=True)\n",
    "rsc_server = os.environ['CONNECT_SERVER']\n",
    "rsc_key = os.environ['CONNECT_API_KEY']"
   ]
  },
  {
   "cell_type": "markdown",
   "id": "07557777-b8e3-4ae3-9999-7863f0f50f11",
   "metadata": {},
   "source": [
    "## Creating a Board"
   ]
  },
  {
   "cell_type": "markdown",
   "id": "e75e865f-9ca8-4287-8aad-9f4dbb8ae86f",
   "metadata": {},
   "source": [
    "The next step in creating a pin is creating a board, which is essentially a connection to the Connect server."
   ]
  },
  {
   "cell_type": "code",
   "execution_count": 3,
   "id": "24385c20-49ae-42c7-83e5-f8213c3ffb5d",
   "metadata": {
    "tags": []
   },
   "outputs": [
    {
     "data": {
      "text/plain": [
       "<pins.boards.BoardRsConnect at 0x7f82ac8620e0>"
      ]
     },
     "execution_count": 3,
     "metadata": {},
     "output_type": "execute_result"
    }
   ],
   "source": [
    "board = pins.board_connect(server_url=rsc_server, api_key=rsc_key)\n",
    "board"
   ]
  },
  {
   "cell_type": "markdown",
   "id": "75a34acb-68a1-4621-b107-8019fcfe08e2",
   "metadata": {},
   "source": [
    "## Reading the Pin"
   ]
  },
  {
   "cell_type": "markdown",
   "id": "e5ba9601-b247-4b46-b254-fff203f2d722",
   "metadata": {},
   "source": [
    "We can now read the pin using the `board.pins_read()` method. "
   ]
  },
  {
   "cell_type": "code",
   "execution_count": 6,
   "id": "42f43bab-0da3-4460-be6b-283690f3e1b1",
   "metadata": {
    "tags": []
   },
   "outputs": [
    {
     "data": {
      "text/html": [
       "<div>\n",
       "<style scoped>\n",
       "    .dataframe tbody tr th:only-of-type {\n",
       "        vertical-align: middle;\n",
       "    }\n",
       "\n",
       "    .dataframe tbody tr th {\n",
       "        vertical-align: top;\n",
       "    }\n",
       "\n",
       "    .dataframe thead th {\n",
       "        text-align: right;\n",
       "    }\n",
       "</style>\n",
       "<table border=\"1\" class=\"dataframe\">\n",
       "  <thead>\n",
       "    <tr style=\"text-align: right;\">\n",
       "      <th></th>\n",
       "      <th>entity</th>\n",
       "      <th>year</th>\n",
       "      <th>product</th>\n",
       "      <th>crop_yield</th>\n",
       "    </tr>\n",
       "  </thead>\n",
       "  <tbody>\n",
       "    <tr>\n",
       "      <th>0</th>\n",
       "      <td>africa</td>\n",
       "      <td>1961</td>\n",
       "      <td>soybeans</td>\n",
       "      <td>0.3758</td>\n",
       "    </tr>\n",
       "    <tr>\n",
       "      <th>1</th>\n",
       "      <td>africa</td>\n",
       "      <td>1962</td>\n",
       "      <td>soybeans</td>\n",
       "      <td>0.3935</td>\n",
       "    </tr>\n",
       "    <tr>\n",
       "      <th>2</th>\n",
       "      <td>africa</td>\n",
       "      <td>1963</td>\n",
       "      <td>soybeans</td>\n",
       "      <td>0.3949</td>\n",
       "    </tr>\n",
       "    <tr>\n",
       "      <th>3</th>\n",
       "      <td>africa</td>\n",
       "      <td>1964</td>\n",
       "      <td>soybeans</td>\n",
       "      <td>0.3692</td>\n",
       "    </tr>\n",
       "    <tr>\n",
       "      <th>4</th>\n",
       "      <td>africa</td>\n",
       "      <td>1965</td>\n",
       "      <td>soybeans</td>\n",
       "      <td>0.3480</td>\n",
       "    </tr>\n",
       "    <tr>\n",
       "      <th>...</th>\n",
       "      <td>...</td>\n",
       "      <td>...</td>\n",
       "      <td>...</td>\n",
       "      <td>...</td>\n",
       "    </tr>\n",
       "    <tr>\n",
       "      <th>5956</th>\n",
       "      <td>zimbabwe</td>\n",
       "      <td>2014</td>\n",
       "      <td>soybeans</td>\n",
       "      <td>1.1767</td>\n",
       "    </tr>\n",
       "    <tr>\n",
       "      <th>5957</th>\n",
       "      <td>zimbabwe</td>\n",
       "      <td>2015</td>\n",
       "      <td>soybeans</td>\n",
       "      <td>0.9459</td>\n",
       "    </tr>\n",
       "    <tr>\n",
       "      <th>5958</th>\n",
       "      <td>zimbabwe</td>\n",
       "      <td>2016</td>\n",
       "      <td>soybeans</td>\n",
       "      <td>1.1958</td>\n",
       "    </tr>\n",
       "    <tr>\n",
       "      <th>5959</th>\n",
       "      <td>zimbabwe</td>\n",
       "      <td>2017</td>\n",
       "      <td>soybeans</td>\n",
       "      <td>1.5139</td>\n",
       "    </tr>\n",
       "    <tr>\n",
       "      <th>5960</th>\n",
       "      <td>zimbabwe</td>\n",
       "      <td>2018</td>\n",
       "      <td>soybeans</td>\n",
       "      <td>1.5000</td>\n",
       "    </tr>\n",
       "  </tbody>\n",
       "</table>\n",
       "<p>5961 rows × 4 columns</p>\n",
       "</div>"
      ],
      "text/plain": [
       "        entity  year   product  crop_yield\n",
       "0       africa  1961  soybeans      0.3758\n",
       "1       africa  1962  soybeans      0.3935\n",
       "2       africa  1963  soybeans      0.3949\n",
       "3       africa  1964  soybeans      0.3692\n",
       "4       africa  1965  soybeans      0.3480\n",
       "...        ...   ...       ...         ...\n",
       "5956  zimbabwe  2014  soybeans      1.1767\n",
       "5957  zimbabwe  2015  soybeans      0.9459\n",
       "5958  zimbabwe  2016  soybeans      1.1958\n",
       "5959  zimbabwe  2017  soybeans      1.5139\n",
       "5960  zimbabwe  2018  soybeans      1.5000\n",
       "\n",
       "[5961 rows x 4 columns]"
      ]
     },
     "execution_count": 6,
     "metadata": {},
     "output_type": "execute_result"
    }
   ],
   "source": [
    "df = board.pin_read('pritam.dalal/soybean_yields_python')\n",
    "df"
   ]
  },
  {
   "cell_type": "markdown",
   "id": "f5ec2f2e-a618-4b41-9505-1eb31c042b2a",
   "metadata": {},
   "source": [
    "## Visualizing USA Soybean Yields"
   ]
  },
  {
   "cell_type": "markdown",
   "id": "6361e27a-fc8c-4c17-b4d6-eb126ef11833",
   "metadata": {},
   "source": [
    "Finally, let's visualize the historical soybean yields for the United States."
   ]
  },
  {
   "cell_type": "code",
   "execution_count": 10,
   "id": "095c5ced-23a3-41cd-a6de-d940381f6d99",
   "metadata": {
    "tags": []
   },
   "outputs": [
    {
     "data": {
      "image/png": "[encoded data removed]",
      "text/plain": [
       "<Figure size 900x400 with 1 Axes>"
      ]
     },
     "metadata": {},
     "output_type": "display_data"
    }
   ],
   "source": [
    "ax = df.query('entity == \"united states\"').\\\n",
    "        plot(\n",
    "            x = 'year',\n",
    "            y = 'crop_yield',\n",
    "            title = 'USA Soybean Yields: 1961-2018',\n",
    "            grid = True,\n",
    "            style = 'k',\n",
    "            alpha = 0.75,\n",
    "            figsize = (9, 4),\n",
    "        );\n",
    "ax.set_xlabel('Year');\n",
    "ax.set_ylabel('Yield');"
   ]
  }
 ],
 "metadata": {
  "kernelspec": {
   "display_name": "Python 3.10.11",
   "language": "python",
   "name": "py3.10.11"
  },
  "language_info": {
   "codemirror_mode": {
    "name": "ipython",
    "version": 3
   },
   "file_extension": ".py",
   "mimetype": "text/x-python",
   "name": "python",
   "nbconvert_exporter": "python",
   "pygments_lexer": "ipython3",
   "version": "3.10.11"
  }
 },
 "nbformat": 4,
 "nbformat_minor": 5
}
