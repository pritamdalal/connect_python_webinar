{
 "cells": [
  {
   "cell_type": "markdown",
   "id": "1175d9c1-bc53-4fb0-8b8c-73850314a475",
   "metadata": {
    "tags": []
   },
   "source": [
    "# Scheduled Pin Updating"
   ]
  },
  {
   "cell_type": "markdown",
   "id": "51c30900-7c65-4882-bbc0-a7147a4eb815",
   "metadata": {},
   "source": [
    "This notebook is scheduled on Posit Connect to update a pin called `pritam.dalal/bitcoin_python` which stores historical bitcoin price data."
   ]
  },
  {
   "cell_type": "markdown",
   "id": "b7b13423-eed6-4bea-a650-41f4b53ae137",
   "metadata": {},
   "source": [
    "## Importing Packages"
   ]
  },
  {
   "cell_type": "markdown",
   "id": "11df28d3-d076-471b-a970-178a58b3f057",
   "metadata": {},
   "source": [
    "Let's begin by loading the packages a that we will need."
   ]
  },
  {
   "cell_type": "code",
   "execution_count": 1,
   "id": "12ab7ea4-8ecf-4b29-bea1-acbba43c6172",
   "metadata": {
    "tags": []
   },
   "outputs": [],
   "source": [
    "import pandas as pd\n",
    "import dotenv # this is the python-dotenv package\n",
    "import os\n",
    "import pins\n",
    "from tiingo import TiingoClient"
   ]
  },
  {
   "cell_type": "markdown",
   "id": "a639db4f-f133-443a-a01b-c3b19a09a14a",
   "metadata": {},
   "source": [
    "## Initializing the Tiingo Client"
   ]
  },
  {
   "cell_type": "markdown",
   "id": "8b09f413-d102-459c-8807-b5301ed36086",
   "metadata": {},
   "source": [
    "Next, we initialize the `TiingoClient()`.  In order to do this we will use the `TIINGO_API_KEY` environment variable which is stored in a `.env` in the local directory."
   ]
  },
  {
   "cell_type": "code",
   "execution_count": 2,
   "id": "de637035-4fcb-4757-b7be-f37cf52fc23c",
   "metadata": {
    "tags": []
   },
   "outputs": [],
   "source": [
    "config = {}\n",
    "\n",
    "# To reuse the same HTTP Session across API calls (and have better performance), include a session key.\n",
    "config['session'] = True\n",
    "\n",
    "# If you don't have your API key as an environment variable,\n",
    "# pass it in via a configuration dictionary.\n",
    "dotenv.load_dotenv(override=True)\n",
    "config['api_key'] = os.environ['TIINGO_API_KEY']\n",
    "\n",
    "# Initialize\n",
    "client = TiingoClient(config)"
   ]
  },
  {
   "cell_type": "markdown",
   "id": "c6643e40-8412-476b-983f-50377ac5f9cf",
   "metadata": {},
   "source": [
    "## Downloading the Bitcoin Price Data"
   ]
  },
  {
   "cell_type": "markdown",
   "id": "de566c3d-5c68-4c62-846e-e4de9282f653",
   "metadata": {},
   "source": [
    "We are now able to download the bitcoin price data.  The client returns it as a `list` of `Dicts` which we convert to a `DataFrame` using **pandas**."
   ]
  },
  {
   "cell_type": "code",
   "execution_count": 3,
   "id": "2bf8b3ab-ab5e-4546-882f-80d122eb932f",
   "metadata": {
    "tags": []
   },
   "outputs": [
    {
     "data": {
      "text/html": [
       "<div>\n",
       "<style scoped>\n",
       "    .dataframe tbody tr th:only-of-type {\n",
       "        vertical-align: middle;\n",
       "    }\n",
       "\n",
       "    .dataframe tbody tr th {\n",
       "        vertical-align: top;\n",
       "    }\n",
       "\n",
       "    .dataframe thead th {\n",
       "        text-align: right;\n",
       "    }\n",
       "</style>\n",
       "<table border=\"1\" class=\"dataframe\">\n",
       "  <thead>\n",
       "    <tr style=\"text-align: right;\">\n",
       "      <th></th>\n",
       "      <th>date</th>\n",
       "      <th>open</th>\n",
       "      <th>high</th>\n",
       "      <th>low</th>\n",
       "      <th>close</th>\n",
       "      <th>volume</th>\n",
       "      <th>volumeNotional</th>\n",
       "      <th>tradesDone</th>\n",
       "    </tr>\n",
       "  </thead>\n",
       "  <tbody>\n",
       "    <tr>\n",
       "      <th>0</th>\n",
       "      <td>2023-06-29T00:00:00+00:00</td>\n",
       "      <td>30082.264488</td>\n",
       "      <td>30137.214558</td>\n",
       "      <td>30073.940358</td>\n",
       "      <td>30082.301004</td>\n",
       "      <td>53.206417</td>\n",
       "      <td>1.600571e+06</td>\n",
       "      <td>2056.0</td>\n",
       "    </tr>\n",
       "    <tr>\n",
       "      <th>1</th>\n",
       "      <td>2023-06-29T00:10:00+00:00</td>\n",
       "      <td>30082.670361</td>\n",
       "      <td>30128.639308</td>\n",
       "      <td>30078.248679</td>\n",
       "      <td>30091.540000</td>\n",
       "      <td>27.185928</td>\n",
       "      <td>8.180664e+05</td>\n",
       "      <td>1540.0</td>\n",
       "    </tr>\n",
       "  </tbody>\n",
       "</table>\n",
       "</div>"
      ],
      "text/plain": [
       "                        date          open          high           low  \\\n",
       "0  2023-06-29T00:00:00+00:00  30082.264488  30137.214558  30073.940358   \n",
       "1  2023-06-29T00:10:00+00:00  30082.670361  30128.639308  30078.248679   \n",
       "\n",
       "          close     volume  volumeNotional  tradesDone  \n",
       "0  30082.301004  53.206417    1.600571e+06      2056.0  \n",
       "1  30091.540000  27.185928    8.180664e+05      1540.0  "
      ]
     },
     "execution_count": 3,
     "metadata": {},
     "output_type": "execute_result"
    }
   ],
   "source": [
    "data = client.get_crypto_price_history(tickers = ['BTCUSD'], resampleFreq='10min')\n",
    "df = pd.DataFrame(data[0]['priceData'])\n",
    "df"
   ]
  },
  {
   "cell_type": "markdown",
   "id": "cd66cd2b-f2ab-47ac-9c8e-7515027bd04e",
   "metadata": {
    "tags": []
   },
   "source": [
    "## Environment Variables"
   ]
  },
  {
   "cell_type": "markdown",
   "id": "49e7f28b-9289-4594-ba9d-be009bc23ee7",
   "metadata": {},
   "source": [
    "In order to communicate with our Posit Connect server we will need the URL of the server and an API key.  These have been stored as environment variables in a `.env` file in the local directory."
   ]
  },
  {
   "cell_type": "code",
   "execution_count": 4,
   "id": "4d5b67a7-a6ed-4bfb-9b01-1126a1538917",
   "metadata": {
    "tags": []
   },
   "outputs": [],
   "source": [
    "dotenv.load_dotenv(override=True)\n",
    "rsc_server = os.environ['CONNECT_SERVER']\n",
    "rsc_key = os.environ['CONNECT_API_KEY']"
   ]
  },
  {
   "cell_type": "markdown",
   "id": "02ba9d59-fdba-4da5-b934-56604f7b7cde",
   "metadata": {},
   "source": [
    "## Creating a Board"
   ]
  },
  {
   "cell_type": "markdown",
   "id": "c76fea9f-d318-4a52-b67a-c46aeb401aaf",
   "metadata": {},
   "source": [
    "The next step in updating our pin is creating a board, which is essentially a connection to the Connect server."
   ]
  },
  {
   "cell_type": "code",
   "execution_count": 5,
   "id": "a8f4dc00-90a6-4b7b-9f8c-d43c396ad124",
   "metadata": {
    "tags": []
   },
   "outputs": [
    {
     "data": {
      "text/plain": [
       "<pins.boards.BoardRsConnect at 0x7fd39a24cc10>"
      ]
     },
     "execution_count": 5,
     "metadata": {},
     "output_type": "execute_result"
    }
   ],
   "source": [
    "board = pins.board_connect(server_url=rsc_server, api_key=rsc_key)\n",
    "board"
   ]
  },
  {
   "cell_type": "markdown",
   "id": "24719e3c-f4f6-44d3-9394-2f95d41fd0dc",
   "metadata": {},
   "source": [
    "## Writing the Pin"
   ]
  },
  {
   "cell_type": "markdown",
   "id": "fad30eba-4ebb-4b65-b0a7-60b056fd902e",
   "metadata": {},
   "source": [
    "We are now ready to update the pin; to do so we use the `board.write_pin()` method."
   ]
  },
  {
   "cell_type": "code",
   "execution_count": 6,
   "id": "5fa753fe-34f4-40e9-93cb-0a4b535495c1",
   "metadata": {
    "tags": []
   },
   "outputs": [
    {
     "name": "stderr",
     "output_type": "stream",
     "text": [
      "Writing pin:\n",
      "Name: 'pritam.dalal/bitcoin_python'\n",
      "Version: 20230629T001702Z-80651\n"
     ]
    },
    {
     "data": {
      "text/plain": [
       "Meta(title='bitcoin_python: a pinned 2 x 8 DataFrame', description=None, created='20230629T001702Z', pin_hash='806516dff7b0f3f5', file='bitcoin_python.csv', file_size=336, type='csv', api_version=1, version=VersionRaw(version='76512'), tags=None, name='pritam.dalal/bitcoin_python', user={}, local={})"
      ]
     },
     "execution_count": 6,
     "metadata": {},
     "output_type": "execute_result"
    }
   ],
   "source": [
    "board.pin_write(df, 'pritam.dalal/bitcoin_python', type = \"csv\")"
   ]
  }
 ],
 "metadata": {
  "kernelspec": {
   "display_name": "Python 3.10.11",
   "language": "python",
   "name": "py3.10.11"
  },
  "language_info": {
   "codemirror_mode": {
    "name": "ipython",
    "version": 3
   },
   "file_extension": ".py",
   "mimetype": "text/x-python",
   "name": "python",
   "nbconvert_exporter": "python",
   "pygments_lexer": "ipython3",
   "version": "3.10.11"
  }
 },
 "nbformat": 4,
 "nbformat_minor": 5
}
